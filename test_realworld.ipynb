{
 "cells": [
  {
   "cell_type": "code",
   "execution_count": 6,
   "metadata": {},
   "outputs": [
    {
     "name": "stderr",
     "output_type": "stream",
     "text": [
      "Seed set to 42\n"
     ]
    }
   ],
   "source": [
    "from pytorch_lightning import seed_everything\n",
    "seed_everything(42)\n",
    "\n",
    "import numpy as np\n",
    "import networkx as nx\n",
    "import matplotlib.pyplot as plt\n",
    "from networkx.drawing.nx_agraph import graphviz_layout\n",
    "from causaldag import partial_correlation_suffstat, partial_correlation_test, MemoizedCI_Tester, gsp, pcalg, hsic_test, kci_test\n",
    "\n",
    "from fci import fci\n",
    "from ccpg import ccpg"
   ]
  },
  {
   "cell_type": "code",
   "execution_count": 7,
   "metadata": {},
   "outputs": [],
   "source": [
    "file = './real-data/airfoil-self-noise.continuous.txt'\n",
    "samples = np.loadtxt(file, skiprows=1)\n",
    "nnodes = samples.shape[1]"
   ]
  },
  {
   "cell_type": "code",
   "execution_count": 8,
   "metadata": {},
   "outputs": [],
   "source": [
    "with open(file, 'r') as f:\n",
    "    names = f.readline().strip().split('\\t')"
   ]
  },
  {
   "cell_type": "code",
   "execution_count": 9,
   "metadata": {},
   "outputs": [
    {
     "name": "stdout",
     "output_type": "stream",
     "text": [
      "components [{'Chord'}, {'Velocity'}, {'Displacement', 'Pressure', 'Frequency', 'Attack'}]\n",
      "edges {(0, 2), (1, 2)}\n"
     ]
    }
   ],
   "source": [
    "# run ccpg\n",
    "suffstat = partial_correlation_suffstat(samples)\n",
    "ci_tester = MemoizedCI_Tester(partial_correlation_test, suffstat, alpha=1e-3)\n",
    "\n",
    "c, e = ccpg(set(range(nnodes)), ci_tester, verbose=False)\n",
    "print('components', [{names[j] for j in i} for i in c])\n",
    "print('edges', e)"
   ]
  },
  {
   "cell_type": "code",
   "execution_count": 11,
   "metadata": {},
   "outputs": [
    {
     "data": {
      "image/png": "[encoded data removed]",
      "text/plain": [
       "<Figure size 250x250 with 1 Axes>"
      ]
     },
     "metadata": {},
     "output_type": "display_data"
    }
   ],
   "source": [
    "# run pc\n",
    "\n",
    "est_dag = pcalg(set(range(nnodes)), ci_tester)\n",
    "\n",
    "est_arcs = set()\n",
    "est_edges = set()\n",
    "for (i,j) in est_dag.arcs:\n",
    "    if (names[j], names[i]) in est_arcs:\n",
    "        est_edges.add(frozenset({names[j], names[i]}))\n",
    "        est_arcs.remove((names[j], names[i]))\n",
    "    else:\n",
    "        est_arcs.add((names[i], names[j]))\n",
    "\n",
    "G = nx.DiGraph(\n",
    "    est_arcs\n",
    ")\n",
    "\n",
    "E = nx.Graph(est_edges)\n",
    "\n",
    "plt.figure(figsize=(5, 5), dpi=50)\n",
    "pos = nx.circular_layout(G)\n",
    "nx.draw(\n",
    "    E, pos=pos, node_color='w',linewidths=2.0, width=1.5\n",
    ")\n",
    "nx.draw(\n",
    "    G,\n",
    "    arrowsize=12,\n",
    "    with_labels=True,\n",
    "    node_size=500,\n",
    "    node_color=\"#ffff8f\",\n",
    "    linewidths=2.0,\n",
    "    width=1.5,\n",
    "    font_size=10,\n",
    "    pos = pos\n",
    ")"
   ]
  },
  {
   "cell_type": "code",
   "execution_count": null,
   "metadata": {},
   "outputs": [],
   "source": []
  }
 ],
 "metadata": {
  "kernelspec": {
   "display_name": "dag",
   "language": "python",
   "name": "python3"
  },
  "language_info": {
   "codemirror_mode": {
    "name": "ipython",
    "version": 3
   },
   "file_extension": ".py",
   "mimetype": "text/x-python",
   "name": "python",
   "nbconvert_exporter": "python",
   "pygments_lexer": "ipython3",
   "version": "3.11.3"
  }
 },
 "nbformat": 4,
 "nbformat_minor": 2
}
